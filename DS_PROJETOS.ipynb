{
  "nbformat": 4,
  "nbformat_minor": 0,
  "metadata": {
    "colab": {
      "provenance": [],
      "collapsed_sections": [
        "GxU88Gv8rnsy"
      ]
    },
    "kernelspec": {
      "name": "python3",
      "display_name": "Python 3"
    },
    "language_info": {
      "name": "python"
    }
  },
  "cells": [
    {
      "cell_type": "markdown",
      "source": [
        "# VALOR APOS SAQUE"
      ],
      "metadata": {
        "id": "GxU88Gv8rnsy"
      }
    },
    {
      "cell_type": "code",
      "execution_count": 1,
      "metadata": {
        "colab": {
          "base_uri": "https://localhost:8080/"
        },
        "id": "swPZkfgqM4a5",
        "outputId": "1c7d6d13-5103-4912-aa79-0b90aa80df88"
      },
      "outputs": [
        {
          "output_type": "stream",
          "name": "stdout",
          "text": [
            "200\n",
            "10\n",
            "Saque realizado com sucesso. Novo saldo: 190\n"
          ]
        }
      ],
      "source": [
        "saldo_total = int(input())\n",
        "valor_saque = int(input())\n",
        "\n",
        "if valor_saque <= saldo_total:\n",
        "  saldo = saldo_total - valor_saque\n",
        "  print(f'Saque realizado com sucesso. Novo saldo: {saldo}')\n",
        "\n",
        "else:\n",
        "  print('Saldo insuficiente. Saque nao realizado!')\n"
      ]
    },
    {
      "cell_type": "markdown",
      "source": [
        "# JUROS COMPOSTOS INVESTIMENTO"
      ],
      "metadata": {
        "id": "qg00u2C_rgts"
      }
    },
    {
      "cell_type": "code",
      "source": [
        "valor_inicial = float(input())\n",
        "taxa_juros = float(input())\n",
        "periodo = int(input())\n",
        "\n",
        "valor_final = valor_inicial * (taxa_juros + 1 )**periodo\n",
        "\n",
        "valor_final = round(valor_final, 2)\n",
        "print(f\"Valor final do investimento: R$ {valor_final}\")"
      ],
      "metadata": {
        "colab": {
          "base_uri": "https://localhost:8080/"
        },
        "id": "PBaWHRKgrXe1",
        "outputId": "6a18f326-d968-4ad6-bee5-db88bc468f0e"
      },
      "execution_count": 2,
      "outputs": [
        {
          "output_type": "stream",
          "name": "stdout",
          "text": [
            "5000\n",
            "0.08\n",
            "5\n",
            "Valor final do investimento: R$ 7346.64\n"
          ]
        }
      ]
    },
    {
      "cell_type": "markdown",
      "source": [
        "# SALDO EM CONTA CORRENTE APOS DEPOSITO, VERIFICAÇAO DE VALOR VALIDO"
      ],
      "metadata": {
        "id": "XO3LsfDdrxbE"
      }
    },
    {
      "cell_type": "code",
      "source": [
        "valor = float(input())\n",
        "\n",
        "saldo_atual = 0\n",
        "if valor > 0:\n",
        "  saldo_atual = saldo_atual + valor\n",
        "  print(f'Deposito realizado com sucesso! saldo atual R$ {saldo_atual}')\n",
        "elif valor == 0:\n",
        "   print('Encerrando o programa...')\n",
        "else:\n",
        "  print('Valor invalido! Digite um valor maior que zero.')"
      ],
      "metadata": {
        "colab": {
          "base_uri": "https://localhost:8080/"
        },
        "id": "VODhrlqGsFjZ",
        "outputId": "29fe6ee1-f2a9-4fde-a0a3-d8d130115805"
      },
      "execution_count": 3,
      "outputs": [
        {
          "output_type": "stream",
          "name": "stdout",
          "text": [
            "20\n",
            "Deposito realizado com sucesso! saldo atual R$ 20.0\n"
          ]
        }
      ]
    }
  ]
}